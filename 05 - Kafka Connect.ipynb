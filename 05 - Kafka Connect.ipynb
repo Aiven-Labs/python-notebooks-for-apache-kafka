{
 "cells": [
  {
   "cell_type": "markdown",
   "metadata": {},
   "source": [
    "# 🦀 Kafka Connect\n",
    "\n",
    "![Kafka Connect PG](images/connect_pg.png)\n",
    "\n",
    "Kafka connect are prebuilt connectors that can be used to integrate Kafka with other sources or targets (souces or sinks in Kafka terms). Let's create a postgreSQL one. "
   ]
  },
  {
   "cell_type": "code",
   "execution_count": null,
   "metadata": {},
   "outputs": [],
   "source": [
    "from kafka import KafkaProducer\n",
    "import json\n",
    "from config.kafka_config import *\n",
    "\n",
    "producer = KafkaProducer(\n",
    "        bootstrap_servers=hostname+\":\"+str(port),\n",
    "        security_protocol=\"SSL\",\n",
    "        ssl_cafile=cert_folder+\"/ca.pem\",\n",
    "        ssl_certfile=cert_folder+\"/service.cert\",\n",
    "        ssl_keyfile=cert_folder+\"/service.key\",\n",
    "        value_serializer=lambda v: json.dumps(v).encode('ascii'),\n",
    "        key_serializer=lambda v: json.dumps(v).encode('ascii')   \n",
    "    )"
   ]
  },
  {
   "cell_type": "markdown",
   "metadata": {},
   "source": [
    "---\n",
    "\n",
    "Let's create a new stream, adding the **schema** to it. \n",
    "\n",
    "Kafka Connect JDBC Sink requires a schema to be attached to the stream defining the its fields in detail. We have two choices:\n",
    "* Attaching the schema to each JSON message\n",
    "* Use schema registry with AVRO format\n",
    "\n",
    "For the sake of this example we'll include the schema definition to the JSON message. Let's define the schema"
   ]
  },
  {
   "cell_type": "code",
   "execution_count": null,
   "metadata": {},
   "outputs": [],
   "source": [
    "key_schema = {\n",
    "    \"type\": \"struct\",\n",
    "    \"fields\": [\n",
    "        {\n",
    "            \"type\": \"int32\",\n",
    "            \"optional\": False,\n",
    "            \"field\": \"id\"\n",
    "        }\n",
    "    ]\n",
    "}\n",
    "\n",
    "value_schema = {\n",
    "    \"type\": \"struct\",\n",
    "    \"fields\": [\n",
    "        {\n",
    "            \"type\": \"string\",\n",
    "            \"optional\": False,\n",
    "            \"field\": \"name\"\n",
    "        },\n",
    "        {\n",
    "            \"type\": \"string\",\n",
    "            \"optional\": False,\n",
    "            \"field\": \"pizza\"}]\n",
    "}"
   ]
  },
  {
   "cell_type": "markdown",
   "metadata": {},
   "source": [
    "And send some data"
   ]
  },
  {
   "cell_type": "code",
   "execution_count": null,
   "metadata": {},
   "outputs": [],
   "source": [
    "producer.send(\n",
    "    topic_name+\"_schema\", \n",
    "    key={\"schema\": key_schema, \"payload\": {\"id\":1}},\n",
    "    value={\"schema\": value_schema, \n",
    "           \"payload\": {\"name\":\"👨 Frank\", \"pizza\":\"Margherita 🍕\"}}\n",
    ")\n",
    "\n",
    "producer.send(\n",
    "    topic_name+\"_schema\",\n",
    "    key={\"schema\": key_schema, \"payload\": {\"id\":2}},\n",
    "    value={\"schema\": value_schema, \n",
    "           \"payload\": {\"name\":\"👨 Dan\", \"pizza\":\"Fries 🍕+🍟\"}}\n",
    ")\n",
    "\n",
    "\n",
    "producer.send(\n",
    "    topic_name+\"_schema\",\n",
    "    key={\"schema\": key_schema, \"payload\": {\"id\":3}},\n",
    "    value={\"schema\": value_schema,\n",
    "           \"payload\": {\"name\":\"👨 Jan\", \"pizza\":\"Mushrooms 🍕+🍄\"}}\n",
    ")\n",
    "\n",
    "producer.flush()"
   ]
  },
  {
   "cell_type": "markdown",
   "metadata": {},
   "source": [
    "Let's start the **Kafka Connect JDBC Connector**"
   ]
  },
  {
   "cell_type": "code",
   "execution_count": null,
   "metadata": {},
   "outputs": [],
   "source": [
    "%%bash\n",
    "\n",
    "source config/profile_info.sh\n",
    "\n",
    "avn service connector create $KAFKA_NAME @config/kafka_connect_setup.json --project $PROJECT_NAME"
   ]
  },
  {
   "cell_type": "markdown",
   "metadata": {},
   "source": [
    "Verify the **Connector** status"
   ]
  },
  {
   "cell_type": "code",
   "execution_count": null,
   "metadata": {},
   "outputs": [],
   "source": [
    "%%bash\n",
    "\n",
    "source config/profile_info.sh\n",
    "\n",
    "avn service connector status $KAFKA_NAME sink_kafka_pg --project $PROJECT_NAME"
   ]
  },
  {
   "cell_type": "markdown",
   "metadata": {},
   "source": [
    "Let's add another **event**\n",
    "with our **Python Producer**"
   ]
  },
  {
   "cell_type": "code",
   "execution_count": null,
   "metadata": {},
   "outputs": [],
   "source": [
    "producer.send(\n",
    "    topic_name+\"_schema\",\n",
    "    key={\n",
    "        \"schema\": key_schema,\n",
    "        \"payload\": {\"id\":4}\n",
    "    },\n",
    "    value={\n",
    "        \"schema\": value_schema,\n",
    "        \"payload\": {\"name\":\"👨 Giuseppe\", \"pizza\":\"Hawaii 🍕+🍍+🥓\"}\n",
    "          }\n",
    ")\n",
    "\n",
    "\n",
    "producer.flush()"
   ]
  },
  {
   "cell_type": "code",
   "execution_count": null,
   "metadata": {},
   "outputs": [],
   "source": []
  }
 ],
 "metadata": {
  "kernelspec": {
   "display_name": "Python 3",
   "language": "python",
   "name": "python3"
  },
  "language_info": {
   "codemirror_mode": {
    "name": "ipython",
    "version": 3
   },
   "file_extension": ".py",
   "mimetype": "text/x-python",
   "name": "python",
   "nbconvert_exporter": "python",
   "pygments_lexer": "ipython3",
   "version": "3.6.7"
  }
 },
 "nbformat": 4,
 "nbformat_minor": 5
}
