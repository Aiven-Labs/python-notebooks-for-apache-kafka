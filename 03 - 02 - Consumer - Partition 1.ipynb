{
 "cells": [
  {
   "cell_type": "markdown",
   "metadata": {},
   "source": [
    "# 🦀 Kafka Consumer - Partition 1\n",
    "---"
   ]
  },
  {
   "cell_type": "markdown",
   "metadata": {},
   "source": [
    "Let's create a consumer"
   ]
  },
  {
   "cell_type": "code",
   "execution_count": null,
   "metadata": {},
   "outputs": [],
   "source": [
    "from kafka import TopicPartition\n",
    "from kafka import KafkaConsumer\n",
    "import json\n",
    "\n",
    "from config.kafka_config import *\n",
    "\n",
    "group_id = \"my_pizza_group\"\n",
    "timeout_ms=5000\n",
    "\n",
    "topic_name_partitioned = topic_name +\"_partitioned\"\n",
    "\n",
    "consumer_partition_1 = KafkaConsumer(\n",
    "        group_id=group_id+\"_partitioned\",\n",
    "        bootstrap_servers=hostname+\":\"+str(port),\n",
    "        security_protocol=\"SSL\",\n",
    "        ssl_cafile=cert_folder+\"/ca.pem\",\n",
    "        ssl_certfile=cert_folder+\"/service.cert\",\n",
    "        ssl_keyfile=cert_folder+\"/service.key\",\n",
    "        value_deserializer = lambda v: json.loads(v.decode('ascii')),\n",
    "        key_deserializer = lambda v: json.loads(v.decode('ascii')),\n",
    "        auto_offset_reset='earliest',\n",
    "        max_poll_records = 10\n",
    "    )\n",
    "\n"
   ]
  },
  {
   "cell_type": "markdown",
   "metadata": {},
   "source": [
    "Read from **partition 1**"
   ]
  },
  {
   "cell_type": "code",
   "execution_count": null,
   "metadata": {},
   "outputs": [],
   "source": [
    "consumer_partition_1.assign([TopicPartition(topic_name_partitioned, 1)])\n",
    "consumer_partition_1.subscription()\n",
    "for message in consumer_partition_1:\n",
    "    print (\"p=%d o=%d value=%s\" % (message.partition,\n",
    "                                   message.offset,\n",
    "                                   message.value))"
   ]
  },
  {
   "cell_type": "code",
   "execution_count": null,
   "metadata": {},
   "outputs": [],
   "source": []
  }
 ],
 "metadata": {
  "kernelspec": {
   "display_name": "Python 3",
   "language": "python",
   "name": "python3"
  },
  "language_info": {
   "codemirror_mode": {
    "name": "ipython",
    "version": 3
   },
   "file_extension": ".py",
   "mimetype": "text/x-python",
   "name": "python",
   "nbconvert_exporter": "python",
   "pygments_lexer": "ipython3",
   "version": "3.6.7"
  }
 },
 "nbformat": 4,
 "nbformat_minor": 5
}
