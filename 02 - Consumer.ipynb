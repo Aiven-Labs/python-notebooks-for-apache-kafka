{
 "cells": [
  {
   "cell_type": "markdown",
   "metadata": {},
   "source": [
    "# 🦀 Kafka Consumer\n",
    "---\n"
   ]
  },
  {
   "cell_type": "markdown",
   "metadata": {},
   "source": [
    "The first step is to install the required libraries, in our case `kafka-python` (and `pandas` to support visualization)"
   ]
  },
  {
   "cell_type": "markdown",
   "metadata": {},
   "source": [
    "Now let's consume the messages, by creating a **Kafka Consumer**\n",
    "\n",
    "![Kafka Consumer](images/consumer.png)\n"
   ]
  },
  {
   "cell_type": "code",
   "execution_count": null,
   "metadata": {},
   "outputs": [],
   "source": [
    "from kafka import KafkaConsumer\n",
    "from config.kafka_config import *\n",
    "import json\n",
    "group_id = \"my_pizza_group\"\n",
    "\n",
    "consumer = KafkaConsumer(\n",
    " client_id = \"client1\",\n",
    " group_id = group_id,\n",
    " bootstrap_servers = hostname+\":\"+str(port),\n",
    " security_protocol = \"SSL\",\n",
    " ssl_cafile = cert_folder+\"/ca.pem\",\n",
    " ssl_certfile = cert_folder+\"/service.cert\",\n",
    " ssl_keyfile = cert_folder+\"/service.key\",\n",
    " value_deserializer = lambda v: json.loads(v.decode('ascii')),\n",
    " key_deserializer = lambda v: json.loads(v.decode('ascii')),\n",
    " max_poll_records = 10\n",
    ")"
   ]
  },
  {
   "cell_type": "markdown",
   "metadata": {},
   "source": [
    "Check out topics"
   ]
  },
  {
   "cell_type": "code",
   "execution_count": null,
   "metadata": {},
   "outputs": [],
   "source": [
    "consumer.topics()"
   ]
  },
  {
   "cell_type": "markdown",
   "metadata": {},
   "source": [
    "and subscribe to the topic"
   ]
  },
  {
   "cell_type": "code",
   "execution_count": null,
   "metadata": {},
   "outputs": [],
   "source": [
    "consumer.subscribe(topics=[topic_name])\n",
    "consumer.subscription()"
   ]
  },
  {
   "cell_type": "markdown",
   "metadata": {},
   "source": [
    "Now we start reading"
   ]
  },
  {
   "cell_type": "code",
   "execution_count": null,
   "metadata": {},
   "outputs": [],
   "source": [
    "for message in consumer:\n",
    "    print (\"%d:%d: k=%s v=%s\" % (message.partition,\n",
    "                                 message.offset,\n",
    "                                 message.key,\n",
    "                                 message.value))"
   ]
  },
  {
   "cell_type": "code",
   "execution_count": null,
   "metadata": {},
   "outputs": [],
   "source": []
  }
 ],
 "metadata": {
  "kernelspec": {
   "display_name": "Python 3",
   "language": "python",
   "name": "python3"
  },
  "language_info": {
   "codemirror_mode": {
    "name": "ipython",
    "version": 3
   },
   "file_extension": ".py",
   "mimetype": "text/x-python",
   "name": "python",
   "nbconvert_exporter": "python",
   "pygments_lexer": "ipython3",
   "version": "3.6.7"
  }
 },
 "nbformat": 4,
 "nbformat_minor": 5
}
