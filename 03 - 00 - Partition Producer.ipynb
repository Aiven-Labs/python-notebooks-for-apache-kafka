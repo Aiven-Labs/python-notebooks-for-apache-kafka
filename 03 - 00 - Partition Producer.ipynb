{
 "cells": [
  {
   "cell_type": "markdown",
   "metadata": {},
   "source": [
    "## 🦀 Topic Partitions\n",
    "\n",
    "![Partitions](images/partitions.png)\n",
    "\n",
    "Partitions are a way to distribute our dataset, Apache Kafka guarantees the correct ordering only in events registered in the same partitions. \n",
    "\n",
    "Let's create a new producer"
   ]
  },
  {
   "cell_type": "code",
   "execution_count": null,
   "metadata": {},
   "outputs": [],
   "source": [
    "from kafka import KafkaProducer\n",
    "import json\n",
    "from config.kafka_config import *\n",
    "\n",
    "producer = KafkaProducer(\n",
    "        bootstrap_servers=hostname+\":\"+str(port),\n",
    "        security_protocol=\"SSL\",\n",
    "        ssl_cafile=cert_folder+\"/ca.pem\",\n",
    "        ssl_certfile=cert_folder+\"/service.cert\",\n",
    "        ssl_keyfile=cert_folder+\"/service.key\",\n",
    "        value_serializer=lambda v: json.dumps(v).encode('ascii'),\n",
    "        key_serializer=lambda v: json.dumps(v).encode('ascii')   \n",
    "    )"
   ]
  },
  {
   "cell_type": "markdown",
   "metadata": {},
   "source": [
    "Create a topic with **two partitions**, check `num_partitions=2`"
   ]
  },
  {
   "cell_type": "code",
   "execution_count": null,
   "metadata": {},
   "outputs": [],
   "source": [
    "from kafka.admin import KafkaAdminClient, NewTopic\n",
    "\n",
    "\n",
    "admin = KafkaAdminClient(\n",
    "        client_id ='admin',\n",
    "        bootstrap_servers=hostname+\":\"+str(port),\n",
    "        security_protocol=\"SSL\",\n",
    "        ssl_cafile=cert_folder+\"/ca.pem\",\n",
    "        ssl_certfile=cert_folder+\"/service.cert\",\n",
    "        ssl_keyfile=cert_folder+\"/service.key\",\n",
    "    )\n",
    "\n",
    "topic_name_partitioned=topic_name+\"_partitioned\"\n",
    "\n",
    "topic=NewTopic(name=topic_name_partitioned, num_partitions=2, replication_factor=1)\n",
    "\n",
    "admin.create_topics([topic], timeout_ms=int(timeout_ms))"
   ]
  },
  {
   "cell_type": "markdown",
   "metadata": {},
   "source": [
    "And now push data to the two partitions"
   ]
  },
  {
   "cell_type": "code",
   "execution_count": null,
   "metadata": {},
   "outputs": [],
   "source": [
    "producer.send(topic_name_partitioned,\n",
    "              key={\"id\":1},\n",
    "              value={\"name\":\"👨 Frank\", \"pizza\":\"Margherita 🍕\"},\n",
    "              partition=0\n",
    "             )\n",
    "producer.send(topic_name_partitioned,\n",
    "              key={\"id\":2},\n",
    "              value={\"name\":\"👩 Adele\", \"pizza\":\"Hawaii 🍕+🍍+🥓\"},\n",
    "              partition=1\n",
    "             )\n",
    "producer.flush()"
   ]
  },
  {
   "cell_type": "markdown",
   "metadata": {},
   "source": [
    "Insert more data"
   ]
  },
  {
   "cell_type": "code",
   "execution_count": null,
   "metadata": {},
   "outputs": [],
   "source": [
    "producer.send(topic_name_partitioned,\n",
    "              key={\"id\":1},\n",
    "              value={\"name\":\"🙎 Mark\", \"pizza\":\"Banana 🍕+🍌\"},\n",
    "              partition=0\n",
    "             )\n",
    "producer.send(topic_name_partitioned,\n",
    "              key={\"id\":2},\n",
    "              value={\"name\":\"👨 Jan\", \"pizza\":\"Mushrooms 🍕+🍄\"},\n",
    "              partition=1\n",
    "             )\n",
    "producer.flush()"
   ]
  },
  {
   "cell_type": "code",
   "execution_count": null,
   "metadata": {},
   "outputs": [],
   "source": []
  }
 ],
 "metadata": {
  "kernelspec": {
   "display_name": "Python 3",
   "language": "python",
   "name": "python3"
  },
  "language_info": {
   "codemirror_mode": {
    "name": "ipython",
    "version": 3
   },
   "file_extension": ".py",
   "mimetype": "text/x-python",
   "name": "python",
   "nbconvert_exporter": "python",
   "pygments_lexer": "ipython3",
   "version": "3.6.7"
  }
 },
 "nbformat": 4,
 "nbformat_minor": 5
}
