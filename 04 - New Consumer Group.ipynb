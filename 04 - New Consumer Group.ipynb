{
 "cells": [
  {
   "cell_type": "markdown",
   "metadata": {},
   "source": [
    "## 🦀 New Consumer Group"
   ]
  },
  {
   "cell_type": "markdown",
   "metadata": {},
   "source": [
    "---\n",
    "\n",
    "\n",
    "Let's try to create a consumer on another `group_id` (`my_NEW_pizza_group`) and the `auto_offset_reset=earliest`"
   ]
  },
  {
   "cell_type": "code",
   "execution_count": null,
   "metadata": {},
   "outputs": [],
   "source": [
    "from kafka import KafkaConsumer\n",
    "import json\n",
    "from config.kafka_config import *\n",
    "\n",
    "consumer_new_group = KafkaConsumer(\n",
    "        ## NEW group_id #########\n",
    "        group_id='my_NEW_pizza_group',\n",
    "        #########################\n",
    "        bootstrap_servers=hostname+\":\"+str(port),\n",
    "        security_protocol=\"SSL\",\n",
    "        ssl_cafile=cert_folder+\"/ca.pem\",\n",
    "        ssl_certfile=cert_folder+\"/service.cert\",\n",
    "        ssl_keyfile=cert_folder+\"/service.key\",\n",
    "        value_deserializer = lambda v: json.loads(v.decode('ascii')),\n",
    "        key_deserializer = lambda v: json.loads(v.decode('ascii')),\n",
    "        auto_offset_reset='earliest',\n",
    "        max_poll_records = 10\n",
    "    )\n",
    "\n",
    "consumer_new_group.subscribe(topics=[topic_name])\n",
    "consumer_new_group.subscription()\n",
    "for message in consumer_new_group:\n",
    "    print (\"%d:%d: key=%s value=%s\" % (message.partition,\n",
    "                                       message.offset,\n",
    "                                       message.key,\n",
    "                                       message.value))"
   ]
  },
  {
   "cell_type": "code",
   "execution_count": null,
   "metadata": {},
   "outputs": [],
   "source": []
  },
  {
   "cell_type": "code",
   "execution_count": null,
   "metadata": {},
   "outputs": [],
   "source": []
  }
 ],
 "metadata": {
  "kernelspec": {
   "display_name": "Python 3",
   "language": "python",
   "name": "python3"
  },
  "language_info": {
   "codemirror_mode": {
    "name": "ipython",
    "version": 3
   },
   "file_extension": ".py",
   "mimetype": "text/x-python",
   "name": "python",
   "nbconvert_exporter": "python",
   "pygments_lexer": "ipython3",
   "version": "3.6.7"
  }
 },
 "nbformat": 4,
 "nbformat_minor": 5
}
