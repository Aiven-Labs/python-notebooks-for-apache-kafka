{
 "cells": [
  {
   "cell_type": "markdown",
   "metadata": {},
   "source": [
    "## 🦀 Delete all services\n",
    "\n",
    "---\n",
    "\n",
    "Finally Let's delete the topics created"
   ]
  },
  {
   "cell_type": "code",
   "execution_count": null,
   "metadata": {},
   "outputs": [],
   "source": [
    "from config.kafka_config import *\n",
    "\n",
    "print(hostname)\n",
    "print(port)\n",
    "print(cert_folder)\n",
    "print(topic_name)\n",
    "\n",
    "timeout_ms=5000\n"
   ]
  },
  {
   "cell_type": "code",
   "execution_count": null,
   "metadata": {},
   "outputs": [],
   "source": [
    "from kafka.admin import KafkaAdminClient, NewTopic\n",
    "\n",
    "topic_name_partitioned=topic_name+\"_partitioned\"\n",
    "admin = KafkaAdminClient(\n",
    "        client_id ='admin',\n",
    "        bootstrap_servers=hostname+\":\"+str(port),\n",
    "        security_protocol=\"SSL\",\n",
    "        ssl_cafile=cert_folder+\"/ca.pem\",\n",
    "        ssl_certfile=cert_folder+\"/service.cert\",\n",
    "        ssl_keyfile=cert_folder+\"/service.key\",\n",
    "    )\n",
    "\n",
    "admin.delete_topics(topics=[topic_name, topic_name_partitioned, topic_name+\"_schema\"], timeout_ms=timeout_ms)"
   ]
  },
  {
   "cell_type": "markdown",
   "metadata": {},
   "source": [
    "Now let's terminate the Kafka and PostgreSQL instances"
   ]
  },
  {
   "cell_type": "code",
   "execution_count": null,
   "metadata": {},
   "outputs": [],
   "source": [
    "%%bash\n",
    "\n",
    "source config/profile_info.sh\n",
    "avn service terminate $KAFKA_NAME --project $PROJECT_NAME --force\n",
    "avn service terminate $POSTGRES_NAME --project $PROJECT_NAME --force\n",
    "rm -rf config\n",
    "rm -rf kafkacerts\n"
   ]
  },
  {
   "cell_type": "code",
   "execution_count": null,
   "metadata": {},
   "outputs": [],
   "source": []
  }
 ],
 "metadata": {
  "kernelspec": {
   "display_name": "Python 3",
   "language": "python",
   "name": "python3"
  },
  "language_info": {
   "codemirror_mode": {
    "name": "ipython",
    "version": 3
   },
   "file_extension": ".py",
   "mimetype": "text/x-python",
   "name": "python",
   "nbconvert_exporter": "python",
   "pygments_lexer": "ipython3",
   "version": "3.6.7"
  }
 },
 "nbformat": 4,
 "nbformat_minor": 5
}
