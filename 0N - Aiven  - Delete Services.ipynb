{
 "cells": [
  {
   "cell_type": "markdown",
   "metadata": {},
   "source": [
    "## 🦀 Delete all services\n",
    "\n",
    "---\n",
    "\n",
    "Finally Let's delete the topics created"
   ]
  },
  {
   "cell_type": "code",
   "execution_count": 1,
   "metadata": {},
   "outputs": [
    {
     "ename": "ModuleNotFoundError",
     "evalue": "No module named 'config.kafka_config'",
     "output_type": "error",
     "traceback": [
      "\u001b[0;31m---------------------------------------------------------------------------\u001b[0m",
      "\u001b[0;31mModuleNotFoundError\u001b[0m                       Traceback (most recent call last)",
      "Cell \u001b[0;32mIn [1], line 1\u001b[0m\n\u001b[0;32m----> 1\u001b[0m \u001b[39mfrom\u001b[39;00m \u001b[39mconfig\u001b[39;00m\u001b[39m.\u001b[39;00m\u001b[39mkafka_config\u001b[39;00m \u001b[39mimport\u001b[39;00m \u001b[39m*\u001b[39m\n\u001b[1;32m      3\u001b[0m \u001b[39mprint\u001b[39m(hostname)\n\u001b[1;32m      4\u001b[0m \u001b[39mprint\u001b[39m(port)\n",
      "\u001b[0;31mModuleNotFoundError\u001b[0m: No module named 'config.kafka_config'"
     ]
    }
   ],
   "source": [
    "from config.kafka_config import *\n",
    "\n",
    "print(hostname)\n",
    "print(port)\n",
    "print(cert_folder)\n",
    "print(topic_name)\n",
    "\n",
    "timeout_ms=5000\n"
   ]
  },
  {
   "cell_type": "code",
   "execution_count": 2,
   "metadata": {},
   "outputs": [
    {
     "ename": "NameError",
     "evalue": "name 'topic_name' is not defined",
     "output_type": "error",
     "traceback": [
      "\u001b[0;31m---------------------------------------------------------------------------\u001b[0m",
      "\u001b[0;31mNameError\u001b[0m                                 Traceback (most recent call last)",
      "Cell \u001b[0;32mIn [2], line 3\u001b[0m\n\u001b[1;32m      1\u001b[0m \u001b[39mfrom\u001b[39;00m \u001b[39mkafka\u001b[39;00m\u001b[39m.\u001b[39;00m\u001b[39madmin\u001b[39;00m \u001b[39mimport\u001b[39;00m KafkaAdminClient, NewTopic\n\u001b[0;32m----> 3\u001b[0m topic_name_partitioned\u001b[39m=\u001b[39mtopic_name\u001b[39m+\u001b[39m\u001b[39m\"\u001b[39m\u001b[39m_partitioned\u001b[39m\u001b[39m\"\u001b[39m\n\u001b[1;32m      4\u001b[0m admin \u001b[39m=\u001b[39m KafkaAdminClient(\n\u001b[1;32m      5\u001b[0m         client_id \u001b[39m=\u001b[39m\u001b[39m'\u001b[39m\u001b[39madmin\u001b[39m\u001b[39m'\u001b[39m,\n\u001b[1;32m      6\u001b[0m         bootstrap_servers\u001b[39m=\u001b[39mhostname\u001b[39m+\u001b[39m\u001b[39m\"\u001b[39m\u001b[39m:\u001b[39m\u001b[39m\"\u001b[39m\u001b[39m+\u001b[39m\u001b[39mstr\u001b[39m(port),\n\u001b[0;32m   (...)\u001b[0m\n\u001b[1;32m     10\u001b[0m         ssl_keyfile\u001b[39m=\u001b[39mcert_folder\u001b[39m+\u001b[39m\u001b[39m\"\u001b[39m\u001b[39m/service.key\u001b[39m\u001b[39m\"\u001b[39m,\n\u001b[1;32m     11\u001b[0m     )\n\u001b[1;32m     13\u001b[0m admin\u001b[39m.\u001b[39mdelete_topics(topics\u001b[39m=\u001b[39m[topic_name, topic_name_partitioned, topic_name\u001b[39m+\u001b[39m\u001b[39m\"\u001b[39m\u001b[39m_schema\u001b[39m\u001b[39m\"\u001b[39m], timeout_ms\u001b[39m=\u001b[39mtimeout_ms)\n",
      "\u001b[0;31mNameError\u001b[0m: name 'topic_name' is not defined"
     ]
    }
   ],
   "source": [
    "from kafka.admin import KafkaAdminClient, NewTopic\n",
    "\n",
    "topic_name_partitioned=topic_name+\"_partitioned\"\n",
    "admin = KafkaAdminClient(\n",
    "        client_id ='admin',\n",
    "        bootstrap_servers=hostname+\":\"+str(port),\n",
    "        security_protocol=\"SSL\",\n",
    "        ssl_cafile=cert_folder+\"/ca.pem\",\n",
    "        ssl_certfile=cert_folder+\"/service.cert\",\n",
    "        ssl_keyfile=cert_folder+\"/service.key\",\n",
    "    )\n",
    "\n",
    "admin.delete_topics(topics=[topic_name, topic_name_partitioned, topic_name+\"_schema\"], timeout_ms=timeout_ms)"
   ]
  },
  {
   "cell_type": "markdown",
   "metadata": {},
   "source": [
    "Now let's terminate the Kafka and PostgreSQL instances"
   ]
  },
  {
   "cell_type": "code",
   "execution_count": 5,
   "metadata": {},
   "outputs": [
    {
     "name": "stderr",
     "output_type": "stream",
     "text": [
      "bash: line 2: config/profile_info.sh: No such file or directory\n",
      "usage: avn [-h] [--config CONFIG] [--version] [--auth-ca FILE]\n",
      "           [--auth-token AUTH_TOKEN] [--show-http] [--url URL]\n",
      "           ...\n",
      "avn: error: argument : invalid choice: 'terminate' (choose from 'account', 'billing-group', 'card', 'cloud', 'crab', 'credits', 'events', 'help', 'mirrormaker', 'project', 'service', 'ticket', 'user', 'vpc')\n",
      "usage: avn [-h] [--config CONFIG] [--version] [--auth-ca FILE]\n",
      "           [--auth-token AUTH_TOKEN] [--show-http] [--url URL]\n",
      "           ...\n",
      "avn: error: argument : invalid choice: 'terminate' (choose from 'account', 'billing-group', 'card', 'cloud', 'crab', 'credits', 'events', 'help', 'mirrormaker', 'project', 'service', 'ticket', 'user', 'vpc')\n"
     ]
    }
   ],
   "source": [
    "%%bash\n",
    "\n",
    "source config/profile_info.sh\n",
    "avn --auth-token $TOKEN service terminate $KAFKA_NAME --project $PROJECT_NAME --force\n",
    "avn --auth-token $TOKEN service terminate $POSTGRES_NAME --project $PROJECT_NAME --force\n",
    "rm -rf config\n",
    "rm -rf kafkacerts\n"
   ]
  },
  {
   "cell_type": "code",
   "execution_count": null,
   "metadata": {},
   "outputs": [],
   "source": []
  }
 ],
 "metadata": {
  "kernelspec": {
   "display_name": "Python 3.8.5 64-bit ('3.8.5')",
   "language": "python",
   "name": "python3"
  },
  "language_info": {
   "codemirror_mode": {
    "name": "ipython",
    "version": 3
   },
   "file_extension": ".py",
   "mimetype": "text/x-python",
   "name": "python",
   "nbconvert_exporter": "python",
   "pygments_lexer": "ipython3",
   "version": "3.8.5"
  },
  "vscode": {
   "interpreter": {
    "hash": "6064663bdb0cf7ad80e39fa9924d85b32044da2a4abedcbe30d3eba51421769c"
   }
  }
 },
 "nbformat": 4,
 "nbformat_minor": 5
}
